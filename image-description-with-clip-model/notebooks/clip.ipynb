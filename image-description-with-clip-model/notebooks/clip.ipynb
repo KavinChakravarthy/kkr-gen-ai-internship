{
 "cells": [
  {
   "cell_type": "markdown",
   "id": "c64a8ac6",
   "metadata": {},
   "source": [
    "### **Import Libraries and Modules**"
   ]
  },
  {
   "cell_type": "code",
   "execution_count": 17,
   "id": "48a55590",
   "metadata": {},
   "outputs": [],
   "source": [
    "import torch\n",
    "import torch.nn as nn\n",
    "import torch.optim as optim\n",
    "import torchvision.transforms as T\n",
    "from torch.utils.data import Dataset, DataLoader\n",
    "from datasets import load_dataset\n",
    "import matplotlib.pyplot as plt\n",
    "import numpy as np\n",
    "import os"
   ]
  },
  {
   "cell_type": "markdown",
   "id": "caf23874",
   "metadata": {},
   "source": [
    "### **Positional Embeddings**"
   ]
  },
  {
   "cell_type": "code",
   "execution_count": 18,
   "id": "4d6aee8e",
   "metadata": {},
   "outputs": [],
   "source": [
    "class PositionalEmbedding(nn.Module):\n",
    "  def __init__(self, width, max_seq_length):\n",
    "    super().__init__()\n",
    "\n",
    "    # Creating positional encoding\n",
    "    pe = torch.zeros(max_seq_length, width)\n",
    "\n",
    "    for pos in range(max_seq_length):\n",
    "      for i in range(width):\n",
    "        if i % 2 == 0:\n",
    "          pe[pos][i] = np.sin(pos/(10000 ** (i/width)))\n",
    "        else:\n",
    "          pe[pos][i] = np.cos(pos/(10000 ** ((i-1)/width)))\n",
    "\n",
    "    self.register_buffer('pe', pe.unsqueeze(0))\n",
    "\n",
    "  def forward(self, x):\n",
    "    # Add positional encoding to embeddings\n",
    "    x = x + self.pe\n",
    "\n",
    "    return x"
   ]
  },
  {
   "cell_type": "markdown",
   "id": "6712c6fd",
   "metadata": {},
   "source": [
    "### **Multi-Head Attention**"
   ]
  },
  {
   "cell_type": "code",
   "execution_count": 19,
   "id": "56f58259",
   "metadata": {},
   "outputs": [],
   "source": [
    "class AttentionHead(nn.Module):\n",
    "  def __init__(self, width, head_size):\n",
    "    super().__init__()\n",
    "    self.head_size = head_size\n",
    "\n",
    "    self.query = nn.Linear(width, head_size)\n",
    "    self.key = nn.Linear(width, head_size)\n",
    "    self.value = nn.Linear(width, head_size)\n",
    "\n",
    "  def forward(self, x, mask=None):\n",
    "    # Obtaining Queries, Keys, and Values\n",
    "    Q = self.query(x)\n",
    "    K = self.key(x)\n",
    "    V = self.value(x)\n",
    "\n",
    "    # Dot Product of Queries and Keys\n",
    "    attention = Q @ K.transpose(-2,-1)\n",
    "\n",
    "    # Scaling\n",
    "    attention = attention / (self.head_size ** 0.5)\n",
    "\n",
    "    # Applying Attention Mask\n",
    "    if mask is not None:\n",
    "        attention = attention.masked_fill(mask == 0, float(\"-inf\"))\n",
    "\n",
    "    attention = torch.softmax(attention, dim=-1)\n",
    "\n",
    "    attention = attention @ V\n",
    "\n",
    "    return attention"
   ]
  },
  {
   "cell_type": "code",
   "execution_count": 20,
   "id": "522cf500",
   "metadata": {},
   "outputs": [],
   "source": [
    "class MultiHeadAttention(nn.Module):\n",
    "  def __init__(self, width, n_heads):\n",
    "    super().__init__()\n",
    "    self.head_size = width // n_heads\n",
    "\n",
    "    self.W_o = nn.Linear(width, width)\n",
    "\n",
    "    self.heads = nn.ModuleList([AttentionHead(width, self.head_size) for _ in range(n_heads)])\n",
    "\n",
    "  def forward(self, x, mask=None):\n",
    "    # Combine attention heads\n",
    "    out = torch.cat([head(x, mask=mask) for head in self.heads], dim=-1)\n",
    "\n",
    "    out = self.W_o(out)\n",
    "\n",
    "    return out"
   ]
  },
  {
   "cell_type": "markdown",
   "id": "31579d11",
   "metadata": {},
   "source": [
    "### **Transformer Encoder**"
   ]
  },
  {
   "cell_type": "code",
   "execution_count": 21,
   "id": "b7c2113b",
   "metadata": {},
   "outputs": [],
   "source": [
    "class TransformerEncoder(nn.Module):\n",
    "    def __init__(self, width, n_heads, r_mlp=4):\n",
    "        super().__init__()\n",
    "        self.width = width\n",
    "        self.n_heads = n_heads\n",
    "\n",
    "        # Sub-Layer 1 Normalization\n",
    "        self.ln1 = nn.LayerNorm(width)\n",
    "\n",
    "        # Multi-Head Attention\n",
    "        self.mha = MultiHeadAttention(width, n_heads)\n",
    "\n",
    "        # Sub-Layer 2 Normalization\n",
    "        self.ln2 = nn.LayerNorm(width)\n",
    "\n",
    "        # Multilayer Perception\n",
    "        self.mlp = nn.Sequential(\n",
    "            nn.Linear(self.width, self.width*r_mlp),\n",
    "            nn.GELU(),\n",
    "            nn.Linear(self.width*r_mlp, self.width)\n",
    "        )\n",
    "\n",
    "\n",
    "    def forward(self, x, mask=None):\n",
    "        # Residual Connection After Sub-Layer 1\n",
    "        x = x + self.mha(self.ln1(x), mask=mask)\n",
    "\n",
    "        # Residual Connection After Sub-Layer 2\n",
    "        x = x + self.mlp(self.ln2(x))\n",
    "\n",
    "        return x"
   ]
  },
  {
   "cell_type": "markdown",
   "id": "85097bad",
   "metadata": {},
   "source": [
    "### **Tokenizer**"
   ]
  },
  {
   "cell_type": "code",
   "execution_count": 22,
   "id": "78f84e19",
   "metadata": {},
   "outputs": [],
   "source": [
    "def tokenizer(text, encode=True, mask=None, max_seq_length=32):\n",
    "    if encode:\n",
    "        out = chr(2) + text + chr(3) # Adding SOT and EOT tokens\n",
    "        out = out + \"\".join([chr(0) for _ in range(max_seq_length-len(out))]) # Adding Padding\n",
    "        out = torch.IntTensor(list(out.encode(\"utf-8\"))) # Encoding Text\n",
    "        mask = torch.ones(len(out.nonzero()))\n",
    "        mask = torch.cat((mask,torch.zeros(max_seq_length-len(mask)))).type(torch.IntTensor)\n",
    "    else:\n",
    "        out = [chr(x) for x in text[1:len(mask.nonzero())-1]]\n",
    "        out = \"\".join(out)\n",
    "        mask = None\n",
    "\n",
    "    return out, mask"
   ]
  },
  {
   "cell_type": "markdown",
   "id": "fdefb444",
   "metadata": {},
   "source": [
    "### **Text Encoder**"
   ]
  },
  {
   "cell_type": "code",
   "execution_count": 23,
   "id": "c6d64dd2",
   "metadata": {},
   "outputs": [],
   "source": [
    "class TextEncoder(nn.Module):\n",
    "    def __init__(self, vocab_size, width, max_seq_length, n_heads, n_layers, emb_dim):\n",
    "        super().__init__()\n",
    "\n",
    "        self.max_seq_length = max_seq_length  # Maximum length of input sequence\n",
    "\n",
    "        self.encoder_embedding = nn.Embedding(vocab_size, width) # Embedding Table\n",
    "\n",
    "        self.positional_embedding = PositionalEmbedding(width, max_seq_length)\n",
    "\n",
    "        self.encoder = nn.ModuleList([TransformerEncoder(width,n_heads) for _ in range(n_layers)])\n",
    "\n",
    "        # learned proj of image to embed\n",
    "        self.projection = nn.Parameter(torch.randn(width, emb_dim))\n",
    "\n",
    "    def forward(self, text, mask=None):\n",
    "        # Text Embedding\n",
    "        x = self.encoder_embedding(text)\n",
    "\n",
    "        # Positional Embedding\n",
    "        x = self.positional_embedding(x)\n",
    "\n",
    "        # Transformer Encoder\n",
    "        for encoder_layer in self.encoder:\n",
    "            x = encoder_layer(x, mask=mask)\n",
    "\n",
    "        # Takes features from the EOT Embedding\n",
    "        x = x[torch.arange(text.shape[0]),torch.sub(torch.sum(mask[:,0],dim=1),1)]\n",
    "\n",
    "        # joint multimodal embedding\n",
    "        if self.projection is not None:\n",
    "            x = x @ self.projection\n",
    "\n",
    "        x = x / torch.norm(x, dim=-1, keepdim=True)\n",
    "\n",
    "        return x"
   ]
  },
  {
   "cell_type": "markdown",
   "id": "384975b9",
   "metadata": {},
   "source": [
    "### **Image Encoder**"
   ]
  },
  {
   "cell_type": "code",
   "execution_count": 24,
   "id": "dfe3db1d",
   "metadata": {},
   "outputs": [],
   "source": [
    "class ImageEncoder(nn.Module):\n",
    "    def __init__(self, width, img_size, patch_size, n_channels, n_layers, n_heads, emb_dim):\n",
    "        super().__init__()\n",
    "\n",
    "        assert img_size[0] % patch_size[0] == 0 and img_size[1] % patch_size[1] == 0, \"img_size dimensions must be divisible by patch_size dimensions\"\n",
    "        assert width % n_heads == 0, \"width must be divisible by n_heads\"\n",
    "\n",
    "        self.n_patches = (img_size[0] * img_size[1]) // (patch_size[0] * patch_size[1])\n",
    "\n",
    "        self.max_seq_length = self.n_patches + 1\n",
    "\n",
    "        # Patch Embedding\n",
    "        self.linear_project = nn.Conv2d(n_channels, width, kernel_size=patch_size, stride=patch_size)\n",
    "\n",
    "        # Classification Token\n",
    "        self.cls_token = nn.Parameter(torch.randn(1, 1, width))\n",
    "\n",
    "        self.positional_embedding = PositionalEmbedding(width,self.max_seq_length)\n",
    "\n",
    "        self.encoder = nn.ModuleList([TransformerEncoder(width,n_heads) for _ in range(n_layers)])\n",
    "\n",
    "        # learned proj of image to embed\n",
    "        self.projection = nn.Parameter(torch.randn(width, emb_dim))\n",
    "\n",
    "\n",
    "    def forward(self,x):\n",
    "        # Patch Embedding\n",
    "        x = self.linear_project(x)\n",
    "        x = x.flatten(2).transpose(1, 2)\n",
    "\n",
    "        # Positional Embedding\n",
    "        x = torch.cat((self.cls_token.expand(x.size()[0], -1, -1),x), dim=1)\n",
    "        x = self.positional_embedding(x)\n",
    "\n",
    "        # Transformer Encoder\n",
    "        for encoder_layer in self.encoder:\n",
    "            x = encoder_layer(x)\n",
    "\n",
    "        # Takes Class Tokens\n",
    "        x = x[:, 0, :]\n",
    "\n",
    "        # joint multimodal embedding\n",
    "        if self.projection is not None:\n",
    "            x = x @ self.projection\n",
    "\n",
    "        x = x / torch.norm(x, dim=-1, keepdim=True)\n",
    "\n",
    "        return x\n"
   ]
  },
  {
   "cell_type": "markdown",
   "id": "e6163bd2",
   "metadata": {},
   "source": [
    "### **CLIP Model**"
   ]
  },
  {
   "cell_type": "code",
   "execution_count": 25,
   "id": "b94fef21",
   "metadata": {},
   "outputs": [],
   "source": [
    "class CLIP(nn.Module):\n",
    "    def __init__(self, emb_dim, vit_width, img_size, patch_size, n_channels, vit_layers, vit_heads, vocab_size, text_width, max_seq_length, text_heads, text_layers):\n",
    "        super().__init__()\n",
    "\n",
    "        self.image_encoder = ImageEncoder(vit_width, img_size, patch_size, n_channels, vit_layers, vit_heads, emb_dim)\n",
    "\n",
    "        self.text_encoder = TextEncoder(vocab_size, text_width, max_seq_length, text_heads, text_layers, emb_dim)\n",
    "\n",
    "        self.temperature = nn.Parameter(torch.ones([]) * np.log(1 / 0.07))\n",
    "\n",
    "        self.device = torch.device(\"cuda\" if torch.cuda.is_available() else \"cpu\")\n",
    "\n",
    "\n",
    "    def forward(self,image,text, mask=None):\n",
    "        I_e = self.image_encoder(image)\n",
    "        T_e = self.text_encoder(text, mask=mask)\n",
    "\n",
    "        # scaled pairwise cosine similarities [n, n]\n",
    "        logits = (I_e @ T_e.transpose(-2,-1)) * torch.exp(self.temperature)\n",
    "\n",
    "        # symmetric loss function\n",
    "        labels = torch.arange(logits.shape[0]).to(self.device)\n",
    "\n",
    "        loss_i = nn.functional.cross_entropy(logits.transpose(-2,-1), labels)\n",
    "        loss_t = nn.functional.cross_entropy(logits, labels)\n",
    "\n",
    "        loss = (loss_i + loss_t) / 2\n",
    "\n",
    "        return loss"
   ]
  },
  {
   "cell_type": "markdown",
   "id": "aaa3115b",
   "metadata": {},
   "source": [
    "### **Dataset**"
   ]
  },
  {
   "cell_type": "code",
   "execution_count": 26,
   "id": "2bce2736",
   "metadata": {},
   "outputs": [],
   "source": [
    "class FashionMNIST(Dataset):\n",
    "    def __init__(self, train=True):\n",
    "        self.dataset = load_dataset(\"fashion_mnist\")\n",
    "\n",
    "        self.transform = T.ToTensor()\n",
    "\n",
    "        if train:\n",
    "            self.split = \"train\"\n",
    "        else:\n",
    "            self.split = \"test\"\n",
    "\n",
    "\n",
    "        self.captions = {0: \"An image of a t-shirt/top\",\n",
    "                        1: \"An image of trousers\",\n",
    "                        2: \"An image of a pullover\",\n",
    "                        3: \"An image of a dress\",\n",
    "                        4: \"An image of a coat\",\n",
    "                        5: \"An image of a sandal\",\n",
    "                        6: \"An image of a shirt\",\n",
    "                        7: \"An image of a sneaker\",\n",
    "                        8: \"An image of a bag\",\n",
    "                        9: \"An image of an ankle boot\"}\n",
    "\n",
    "\n",
    "    def __len__(self):\n",
    "        return self.dataset.num_rows[self.split]\n",
    "\n",
    "    def __getitem__(self,i):\n",
    "        img = self.dataset[self.split][i][\"image\"]\n",
    "        img = self.transform(img)\n",
    "\n",
    "        cap, mask = tokenizer(self.captions[self.dataset[self.split][i][\"label\"]])\n",
    "\n",
    "        mask = mask.repeat(len(mask),1)\n",
    "\n",
    "        return {\"image\": img, \"caption\": cap, \"mask\": mask}"
   ]
  },
  {
   "cell_type": "markdown",
   "id": "fb59a5c2",
   "metadata": {},
   "source": [
    "### **Training Parameters**"
   ]
  },
  {
   "cell_type": "code",
   "execution_count": 27,
   "id": "fab917c3",
   "metadata": {},
   "outputs": [],
   "source": [
    "emb_dim = 32\n",
    "vit_width = 9\n",
    "img_size = (28,28)\n",
    "patch_size = (14,14)\n",
    "n_channels = 1\n",
    "vit_layers = 3\n",
    "vit_heads = 3\n",
    "vocab_size = 256\n",
    "text_width = 32\n",
    "max_seq_length = 32\n",
    "text_heads = 8\n",
    "text_layers = 4\n",
    "lr = 1e-3\n",
    "epochs = 10 \n",
    "batch_size = 128"
   ]
  },
  {
   "cell_type": "markdown",
   "id": "166b6c2f",
   "metadata": {},
   "source": [
    "### **Loading Dataset**"
   ]
  },
  {
   "cell_type": "code",
   "execution_count": 28,
   "id": "dedcc8ea",
   "metadata": {},
   "outputs": [],
   "source": [
    "train_set = FashionMNIST(train = True)\n",
    "test_set = FashionMNIST(train = False)\n",
    "\n",
    "train_loader = DataLoader(train_set, shuffle=True, batch_size=batch_size)\n",
    "test_loader = DataLoader(test_set, shuffle=False, batch_size=batch_size)"
   ]
  },
  {
   "cell_type": "code",
   "execution_count": 29,
   "id": "f43e60f3",
   "metadata": {},
   "outputs": [
    {
     "name": "stdout",
     "output_type": "stream",
     "text": [
      "torch.Size([1, 28, 28])\n",
      "torch.Size([32])\n",
      "torch.Size([32, 32])\n",
      "tensor([  2,  65, 110,  32, 105, 109,  97, 103, 101,  32, 111, 102,  32,  97,\n",
      "        110,  32,  97, 110, 107, 108, 101,  32,  98, 111, 111, 116,   3,   0,\n",
      "          0,   0,   0,   0], dtype=torch.int32)\n",
      "tensor([[1, 1, 1,  ..., 0, 0, 0],\n",
      "        [1, 1, 1,  ..., 0, 0, 0],\n",
      "        [1, 1, 1,  ..., 0, 0, 0],\n",
      "        ...,\n",
      "        [1, 1, 1,  ..., 0, 0, 0],\n",
      "        [1, 1, 1,  ..., 0, 0, 0],\n",
      "        [1, 1, 1,  ..., 0, 0, 0]], dtype=torch.int32)\n"
     ]
    }
   ],
   "source": [
    "print(train_set[0][\"image\"].shape)\n",
    "print(train_set[0][\"caption\"].shape)\n",
    "print(train_set[0][\"mask\"].shape)\n",
    "print(train_set[0][\"caption\"])\n",
    "print(train_set[0][\"mask\"])"
   ]
  },
  {
   "cell_type": "markdown",
   "id": "de875004",
   "metadata": {},
   "source": [
    "### **Training**"
   ]
  },
  {
   "cell_type": "code",
   "execution_count": 30,
   "id": "9e4ba78f",
   "metadata": {},
   "outputs": [
    {
     "name": "stdout",
     "output_type": "stream",
     "text": [
      "Using device:  cuda (NVIDIA GeForce RTX 3050 Ti Laptop GPU)\n",
      "Epoch [1/10], Batch Loss: 3.138\n",
      "Model Saved.\n",
      "Epoch [2/10], Batch Loss: 2.803\n",
      "Model Saved.\n",
      "Epoch [3/10], Batch Loss: 2.678\n",
      "Model Saved.\n",
      "Epoch [4/10], Batch Loss: 2.864\n",
      "Epoch [5/10], Batch Loss: 2.800\n",
      "Epoch [6/10], Batch Loss: 2.790\n",
      "Epoch [7/10], Batch Loss: 2.594\n",
      "Model Saved.\n",
      "Epoch [8/10], Batch Loss: 2.719\n",
      "Epoch [9/10], Batch Loss: 2.673\n",
      "Epoch [10/10], Batch Loss: 2.625\n"
     ]
    }
   ],
   "source": [
    "device = torch.device(\"cuda\" if torch.cuda.is_available() else \"cpu\")\n",
    "print(\"Using device: \", device, f\"({torch.cuda.get_device_name(device)})\" if torch.cuda.is_available() else \"\")\n",
    "\n",
    "model = CLIP(emb_dim, vit_width, img_size, patch_size, n_channels, vit_layers, vit_heads, vocab_size, text_width, max_seq_length, text_heads, text_layers).to(device)\n",
    "\n",
    "optimizer = optim.Adam(model.parameters(), lr=lr)\n",
    "\n",
    "best_loss = np.inf\n",
    "for epoch in range(epochs):\n",
    "    for i, data in enumerate(train_loader, 0):\n",
    "        img, cap, mask = data[\"image\"].to(device), data[\"caption\"].to(device), data[\"mask\"].to(device)\n",
    "        loss = model(img,cap,mask)\n",
    "        optimizer.zero_grad()\n",
    "        loss.backward()\n",
    "        optimizer.step()\n",
    "\n",
    "    # Saves model if it performed better than the previous best\n",
    "    print(f\"Epoch [{epoch+1}/{epochs}], Batch Loss: {loss.item():.3f}\")\n",
    "    if loss.item() <= best_loss:\n",
    "        best_loss = loss.item()\n",
    "        torch.save(model.state_dict(), \"../src/clip.pt\")\n",
    "        print(\"Model Saved.\")"
   ]
  },
  {
   "cell_type": "markdown",
   "id": "87ad08a7",
   "metadata": {},
   "source": [
    "### **Testing**"
   ]
  },
  {
   "cell_type": "code",
   "execution_count": 31,
   "id": "396eecf7",
   "metadata": {},
   "outputs": [
    {
     "name": "stderr",
     "output_type": "stream",
     "text": [
      "/tmp/ipykernel_16405/437209580.py:3: FutureWarning: You are using `torch.load` with `weights_only=False` (the current default value), which uses the default pickle module implicitly. It is possible to construct malicious pickle data which will execute arbitrary code during unpickling (See https://github.com/pytorch/pytorch/blob/main/SECURITY.md#untrusted-models for more details). In a future release, the default value for `weights_only` will be flipped to `True`. This limits the functions that could be executed during unpickling. Arbitrary objects will no longer be allowed to be loaded via this mode unless they are explicitly allowlisted by the user via `torch.serialization.add_safe_globals`. We recommend you start setting `weights_only=True` for any use case where you don't have full control of the loaded file. Please open an issue on GitHub for any issues related to this experimental feature.\n",
      "  model.load_state_dict(torch.load(\"../src/clip.pt\", map_location=device))\n"
     ]
    },
    {
     "name": "stdout",
     "output_type": "stream",
     "text": [
      "\n",
      "Model Accuracy: 84 %\n"
     ]
    }
   ],
   "source": [
    "# Loading Best Model\n",
    "model = CLIP(emb_dim, vit_width, img_size, patch_size, n_channels, vit_layers, vit_heads, vocab_size, text_width, max_seq_length, text_heads, text_layers).to(device)\n",
    "model.load_state_dict(torch.load(\"../src/clip.pt\", map_location=device))\n",
    "\n",
    "# Getting dataset captions to compare images to\n",
    "text = torch.stack([tokenizer(x)[0] for x in test_set.captions.values()]).to(device)\n",
    "mask = torch.stack([tokenizer(x)[1] for x in test_set.captions.values()])\n",
    "mask = mask.repeat(1,len(mask[0])).reshape(len(mask),len(mask[0]),len(mask[0])).to(device)\n",
    "\n",
    "correct, total = 0,0\n",
    "with torch.no_grad():\n",
    "    for data in test_loader:\n",
    "        images, labels = data[\"image\"].to(device), data[\"caption\"].to(device)\n",
    "        image_features = model.image_encoder(images)\n",
    "        text_features = model.text_encoder(text, mask=mask)\n",
    "\n",
    "        image_features /= image_features.norm(dim=-1, keepdim=True)\n",
    "        text_features /= text_features.norm(dim=-1, keepdim=True)\n",
    "        similarity = (100.0 * (image_features @ text_features.T)).softmax(dim=-1)\n",
    "        _, indices = torch.max(similarity,1)\n",
    "        pred = torch.stack([tokenizer(test_set.captions[int(i)])[0] for i in indices]).to(device)\n",
    "        correct += int(sum(torch.sum((pred==labels),dim=1)//len(pred[0])))\n",
    "        total += len(labels)\n",
    "\n",
    "print(f'\\nModel Accuracy: {100 * correct // total} %')"
   ]
  },
  {
   "cell_type": "markdown",
   "id": "8cbf61c7",
   "metadata": {},
   "source": [
    "### **Zero-Shot Classification**"
   ]
  },
  {
   "cell_type": "code",
   "execution_count": 32,
   "id": "ce05038a",
   "metadata": {},
   "outputs": [
    {
     "name": "stderr",
     "output_type": "stream",
     "text": [
      "/tmp/ipykernel_16405/577610390.py:3: FutureWarning: You are using `torch.load` with `weights_only=False` (the current default value), which uses the default pickle module implicitly. It is possible to construct malicious pickle data which will execute arbitrary code during unpickling (See https://github.com/pytorch/pytorch/blob/main/SECURITY.md#untrusted-models for more details). In a future release, the default value for `weights_only` will be flipped to `True`. This limits the functions that could be executed during unpickling. Arbitrary objects will no longer be allowed to be loaded via this mode unless they are explicitly allowlisted by the user via `torch.serialization.add_safe_globals`. We recommend you start setting `weights_only=True` for any use case where you don't have full control of the loaded file. Please open an issue on GitHub for any issues related to this experimental feature.\n",
      "  model.load_state_dict(torch.load(\"../src/clip.pt\", map_location=device))\n"
     ]
    },
    {
     "data": {
      "image/png": "[encoded data removed]",
      "text/plain": [
       "<Figure size 640x480 with 1 Axes>"
      ]
     },
     "metadata": {},
     "output_type": "display_data"
    },
    {
     "name": "stdout",
     "output_type": "stream",
     "text": [
      "\n",
      "Top predictions:\n",
      "\n",
      "     t-shirt/top: 85.21%\n",
      "           shirt: 13.21%\n",
      "          sandal: 1.45%\n",
      "        pullover: 0.13%\n",
      "            coat: 0.00%\n"
     ]
    }
   ],
   "source": [
    "# Loading Best Model\n",
    "model = CLIP(emb_dim, vit_width, img_size, patch_size, n_channels, vit_layers, vit_heads, vocab_size, text_width, max_seq_length, text_heads, text_layers).to(device)\n",
    "model.load_state_dict(torch.load(\"../src/clip.pt\", map_location=device))\n",
    "\n",
    "\n",
    "# Captions to compare images to\n",
    "class_names =[\"t-shirt/top\",\n",
    "                        \"trousers\",\n",
    "                        \"pullover\",\n",
    "                        \"dress\",\n",
    "                        \"coat\",\n",
    "                        \"sandal\",\n",
    "                        \"shirt\",\n",
    "                        \"sneaker\",\n",
    "                        \"bag\",\n",
    "                        \"ankle boot\"]\n",
    "\n",
    "# class_names =[\"An image of a t-shirt/top\",\n",
    "#                         \"An image of trousers\",\n",
    "#                         \"An image of a pullover\",\n",
    "#                         \"An image of a dress\",\n",
    "#                         \"An image of a coat\",\n",
    "#                         \"An image of a sandal\",\n",
    "#                         \"An image of a shirt\",\n",
    "#                         \"An image of a sneaker\",\n",
    "#                         \"An image of a bag\",\n",
    "#                         \"An image of an ankle boot\"]\n",
    "\n",
    "text = torch.stack([tokenizer(x)[0] for x in class_names]).to(device)\n",
    "mask = torch.stack([tokenizer(x)[1] for x in class_names])\n",
    "mask = mask.repeat(1,len(mask[0])).reshape(len(mask),len(mask[0]),len(mask[0])).to(device)\n",
    "\n",
    "idx = 1000\n",
    "\n",
    "img = test_set[idx][\"image\"][None,:]\n",
    "plt.imshow(  img[0].permute(1, 2, 0)  ,cmap=\"gray\")\n",
    "plt.title(tokenizer(test_set[idx][\"caption\"], encode=False, mask=test_set[idx][\"mask\"][0])[0])\n",
    "plt.show()\n",
    "img = img.to(device)\n",
    "with torch.no_grad():\n",
    "  image_features = model.image_encoder(img)\n",
    "  text_features = model.text_encoder(text, mask=mask)\n",
    "\n",
    "\n",
    "image_features /= image_features.norm(dim=-1, keepdim=True)\n",
    "text_features /= text_features.norm(dim=-1, keepdim=True)\n",
    "similarity = (100.0 * image_features @ text_features.T).softmax(dim=-1)\n",
    "values, indices = similarity[0].topk(5)\n",
    "\n",
    "# Print the result\n",
    "print(\"\\nTop predictions:\\n\")\n",
    "for value, index in zip(values, indices):\n",
    "    print(f\"{class_names[int(index)]:>16s}: {100 * value.item():.2f}%\")"
   ]
  }
 ],
 "metadata": {
  "kernelspec": {
   "display_name": "venv",
   "language": "python",
   "name": "python3"
  },
  "language_info": {
   "codemirror_mode": {
    "name": "ipython",
    "version": 3
   },
   "file_extension": ".py",
   "mimetype": "text/x-python",
   "name": "python",
   "nbconvert_exporter": "python",
   "pygments_lexer": "ipython3",
   "version": "3.12.3"
  }
 },
 "nbformat": 4,
 "nbformat_minor": 5
}
